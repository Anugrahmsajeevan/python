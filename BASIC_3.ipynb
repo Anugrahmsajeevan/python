{
  "nbformat": 4,
  "nbformat_minor": 0,
  "metadata": {
    "colab": {
      "provenance": [],
      "authorship_tag": "ABX9TyNaoc2rbVQOkcNoh3SiS5UO",
      "include_colab_link": true
    },
    "kernelspec": {
      "name": "python3",
      "display_name": "Python 3"
    },
    "language_info": {
      "name": "python"
    }
  },
  "cells": [
    {
      "cell_type": "markdown",
      "metadata": {
        "id": "view-in-github",
        "colab_type": "text"
      },
      "source": [
        "<a href=\"https://colab.research.google.com/github/Anugrahmsajeevan/python/blob/main/BASIC_3.ipynb\" target=\"_parent\"><img src=\"https://colab.research.google.com/assets/colab-badge.svg\" alt=\"Open In Colab\"/></a>"
      ]
    },
    {
      "cell_type": "code",
      "execution_count": 51,
      "metadata": {
        "id": "omsjLG2_Dc2u"
      },
      "outputs": [],
      "source": [
        "x=['ANUGRAH',12,18,'25/09/2004','thrissur chalakudy']"
      ]
    },
    {
      "cell_type": "code",
      "source": [
        "print(x)"
      ],
      "metadata": {
        "colab": {
          "base_uri": "https://localhost:8080/"
        },
        "id": "CSgSnb7XGXnB",
        "outputId": "5706eeb0-108f-4670-c680-23d294ab028b"
      },
      "execution_count": 52,
      "outputs": [
        {
          "output_type": "stream",
          "name": "stdout",
          "text": [
            "['ANUGRAH', 12, 18, '25/09/2004', 'thrissur chalakudy']\n"
          ]
        }
      ]
    },
    {
      "cell_type": "code",
      "source": [
        "\n",
        "x[0]"
      ],
      "metadata": {
        "colab": {
          "base_uri": "https://localhost:8080/",
          "height": 35
        },
        "id": "tsqVIeiiGYuw",
        "outputId": "ede3a0c7-100f-4468-b65d-7b83b6276ae0"
      },
      "execution_count": 53,
      "outputs": [
        {
          "output_type": "execute_result",
          "data": {
            "text/plain": [
              "'ANUGRAH'"
            ],
            "application/vnd.google.colaboratory.intrinsic+json": {
              "type": "string"
            }
          },
          "metadata": {},
          "execution_count": 53
        }
      ]
    },
    {
      "cell_type": "code",
      "source": [
        "x[3]"
      ],
      "metadata": {
        "colab": {
          "base_uri": "https://localhost:8080/",
          "height": 35
        },
        "id": "E4_XBkk-ILni",
        "outputId": "51c0ab3a-2b9b-404d-a813-b7a99309f0f3"
      },
      "execution_count": 54,
      "outputs": [
        {
          "output_type": "execute_result",
          "data": {
            "text/plain": [
              "'25/09/2004'"
            ],
            "application/vnd.google.colaboratory.intrinsic+json": {
              "type": "string"
            }
          },
          "metadata": {},
          "execution_count": 54
        }
      ]
    },
    {
      "cell_type": "code",
      "source": [
        "x.append(\"karakulak\")"
      ],
      "metadata": {
        "id": "UubErWlBIbXi"
      },
      "execution_count": 55,
      "outputs": []
    },
    {
      "cell_type": "code",
      "source": [
        "x"
      ],
      "metadata": {
        "colab": {
          "base_uri": "https://localhost:8080/"
        },
        "id": "W-63gaGpI736",
        "outputId": "1ceceda2-7765-4254-9746-3089c87797ab"
      },
      "execution_count": 56,
      "outputs": [
        {
          "output_type": "execute_result",
          "data": {
            "text/plain": [
              "['ANUGRAH', 12, 18, '25/09/2004', 'thrissur chalakudy', 'karakulak']"
            ]
          },
          "metadata": {},
          "execution_count": 56
        }
      ]
    },
    {
      "cell_type": "code",
      "source": [
        "x.insert(1,\"kerala\")"
      ],
      "metadata": {
        "id": "_XFXiV4kI80y"
      },
      "execution_count": 57,
      "outputs": []
    },
    {
      "cell_type": "code",
      "source": [
        "x"
      ],
      "metadata": {
        "id": "2GwlpnTDKPoS",
        "outputId": "e02d6e29-a8a1-4f1d-85f4-e8d74d53f517",
        "colab": {
          "base_uri": "https://localhost:8080/"
        }
      },
      "execution_count": 58,
      "outputs": [
        {
          "output_type": "execute_result",
          "data": {
            "text/plain": [
              "['ANUGRAH', 'kerala', 12, 18, '25/09/2004', 'thrissur chalakudy', 'karakulak']"
            ]
          },
          "metadata": {},
          "execution_count": 58
        }
      ]
    },
    {
      "cell_type": "code",
      "source": [
        "x=int(input(\"enter the mark\"))\n",
        "if x>100:\n",
        "  print(\"passed\")\n",
        "if x<100:\n",
        "  print(\"failled\")\n",
        "  \n"
      ],
      "metadata": {
        "colab": {
          "base_uri": "https://localhost:8080/"
        },
        "id": "1kc0K5wwLl9K",
        "outputId": "ebf70b3f-83fb-48f5-d8f2-2fc58812cd36"
      },
      "execution_count": 59,
      "outputs": [
        {
          "output_type": "stream",
          "name": "stdout",
          "text": [
            "enter the mark56\n",
            "failled\n"
          ]
        }
      ]
    },
    {
      "cell_type": "code",
      "source": [
        "\n",
        "x=[\"anugrah\",\"yadhu\",\"pranav\"]\n",
        "print(x)\n",
        "x.append(input(\"enter a name\"))\n",
        "print(x)"
      ],
      "metadata": {
        "colab": {
          "base_uri": "https://localhost:8080/"
        },
        "id": "-u8uLWNSNt1K",
        "outputId": "73870a95-75f4-4ede-e64a-11a1b34d3992"
      },
      "execution_count": 60,
      "outputs": [
        {
          "output_type": "stream",
          "name": "stdout",
          "text": [
            "['anugrah', 'yadhu', 'pranav']\n",
            "enter a nametyhjk\n",
            "['anugrah', 'yadhu', 'pranav', 'tyhjk']\n"
          ]
        }
      ]
    },
    {
      "cell_type": "code",
      "source": [
        "from pickle import STRING\n",
        "x=[\"raju\",\"ramu\",\"ram\",\"roy\"]\n",
        "print(x)\n",
        "x.insert int(input(\"enter a number\")),(input(\"enter a name\"))\n",
        "\n",
        "\n",
        "\n",
        "print(x)\n"
      ],
      "metadata": {
        "id": "AJvl5yfqQ5Nd",
        "colab": {
          "base_uri": "https://localhost:8080/",
          "height": 130
        },
        "outputId": "ce42246e-3ac4-4063-b83f-445bbc25cea5"
      },
      "execution_count": 78,
      "outputs": [
        {
          "output_type": "error",
          "ename": "SyntaxError",
          "evalue": "ignored",
          "traceback": [
            "\u001b[0;36m  File \u001b[0;32m\"<ipython-input-78-1bc2be05e25b>\"\u001b[0;36m, line \u001b[0;32m4\u001b[0m\n\u001b[0;31m    x.insert int(input(\"enter a number\")),(input(\"enter a name\"))\u001b[0m\n\u001b[0m             ^\u001b[0m\n\u001b[0;31mSyntaxError\u001b[0m\u001b[0;31m:\u001b[0m invalid syntax\n"
          ]
        }
      ]
    },
    {
      "cell_type": "code",
      "source": [],
      "metadata": {
        "id": "L_8AupGDcpJS"
      },
      "execution_count": 75,
      "outputs": []
    }
  ]
}